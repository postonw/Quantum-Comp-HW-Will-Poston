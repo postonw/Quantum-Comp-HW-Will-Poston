{
 "cells": [
  {
   "cell_type": "markdown",
   "id": "39d5c114",
   "metadata": {},
   "source": [
    "# Digital Quantum Simulations\n",
    "$$\\newcommand{\\ket}[1]{\\left|{#1}\\right\\rangle}$$\n",
    "$$\\newcommand{\\bra}[1]{\\left\\langle{#1}\\right|}$$\n",
    "$$\\newcommand{\\braket}[2]{\\left\\langle{#1}\\middle|{#2}\\right\\rangle}$$"
   ]
  },
  {
   "cell_type": "markdown",
   "id": "d25a98d0",
   "metadata": {},
   "source": [
    "In this tutorial, we will introduce time evolution of quantum states and how to simulate them using the Trotter-Suzuki formalism.  We then show to how to run the time evolution of a one dimensional Ising chain with three sites."
   ]
  },
  {
   "cell_type": "markdown",
   "id": "eeb53dc9",
   "metadata": {},
   "source": [
    "## Contents\n",
    "1. [Introduction](#introduction)\n",
    "2. [Trotter-Suzuki Formalism](#ts-equation)\n",
    "3. [The Heisenberg Model](#heisenberg-equation)\n",
    "4. [Trotterization](#trotterization)\n",
    "5. [Qiskit Implementation](#qiskit)"
   ]
  },
  {
   "cell_type": "markdown",
   "id": "6a115400",
   "metadata": {},
   "source": [
    "## Introduction <a id='introduction'></a>\n",
    "\n",
    "Classical simulation of physical systems typically begin by solving simple differential equations such as $\\frac{dy}{dt} = f(y)$ which, to first order, has the solution $y(t+\\Delta t)\\approx y(t)+f(y)\\Delta t$.  Meanwhile in quantum mechanics, we are concerned with the solution to $-i\\hbar\\frac{d\\ket{\\psi}}{dt}=H\\ket{\\psi}$, which for a time-indepent $H$, is\n",
    "$$ \\ket{\\Psi(t)} = e^{-i\\hbar Ht}\\ket{\\Psi(0)} $$\n",
    "\n",
    "and the simulation of a quantum system requires the ability to perform the operation above.  \n",
    "\n",
    "In most cases, this reduces to matrix exponentiation, but proves to be very difficult on classical computers due to the exponential growth of the size of the operator as the system size/Hilbert space increases.  A good attempt at a first order solution is $\\ket{\\psi(t+\\Delta t)}\\approx (I-i\\hbar H\\Delta t)\\ket{\\psi(t)}$, but this is generally not satisfactory.  However, if we can exponentiate the Hamiltonian, we only need a sufficiently small time step to simulate our system\n",
    "\n",
    "$$ \\ket{\\psi(t+\\Delta t)}= e^{-i\\hbar H\\Delta t}\\ket{\\psi(t)} $$\n",
    "\n",
    "Efficient approximations to the solution of this equation are possible for Hamiltonians which carry local interactions between the system's consitutent subsystems.  These classes of Hamiltonians can be written in the form\n",
    "\n",
    "$$ H = \\sum_k^L H_k $$\n",
    "\n",
    "where each $H_k$ acts locally on only a portion of the total system.  For example, the terms are often just two-body interactions (such as $X_iX_j$) and one-body Hamiltonians (such as $Z_i$).  For the physicists out there, both the Ising and Hubbard models (as we'll see later on) can be written in this way.  The advantage of writing the Hamiltonian in this way is that although the total time evolution operator $e^{iHt}$ may be difficult to compute, it is much easier to use $e^{iH_kt}$ as it acts on a much smaller subsytem and is straightforward to approximate using quantum circuits."
   ]
  },
  {
   "cell_type": "markdown",
   "id": "5909ecb8",
   "metadata": {},
   "source": [
    "## Trotter-Suzuki Formalism <a id='ts-equation'></a>\n",
    "\n",
    "Now armed with this idea of considering the Hamiltonian as a sum over a set of smaller subsystems, we can examine what our time evolution operator looks like.  It is important to note that because the subsystem terms $H_k$ do not generally commute with each other, we can anotssume the exponential of the full Hamiltonian is a product of each of the terms $H_k$ i.e.\n",
    "\n",
    "$$e^{-i\\hbar Ht}\\neq \\prod_k e^{-i\\hbar H_kt}.$$\n",
    "\n",
    "We can move past this by using the first order Trotter-Suzuki formula which asymptotically approximates the sum\n",
    "\n",
    "$$\n",
    "   e^{-iHt} = \\lim_{n\\rightarrow\\infty} \\left(\\prod_l e^{-iH_lt/n} \\right)^n.\n",
    "$$\n",
    "\n",
    "From now on we'll set $\\hbar=1$ (sorry experimentalists!).  So although we cannot exponentiate this Hamiltonian exactly, we can approximate it arbitrarily well using slices of size $1/n$.  Errors aside, this is still advantageous since we are able to efficiently implement a \"difficult\" gate $U(t)=e^{-iHt}$ by breaking the original problem into smaller pieces $e^{-iH_lt/n}$ which require only a limited set of elementary gates.\n",
    "\n",
    "\n",
    "It may also help to provide a bit of an intuitive picture of the ST decomposition.  In his original paper discussing universal quantum simulators, Lloyd (S. Lloyd, Science 273, 1073) gave this example on the Trotter-Suzuki formalism:\n",
    "\n",
    "<blockquote> The method for performing the simulation is conceptually straightforward, if mathematically involved. The goal is to get the simulator from point A to point B along a particular route. But the simulator can only be driven in certain directions--the operations that can be applied experimentally are limited--so it is usually not possible to go from point A to point B directly. But by moving the simulator first a little bit in one direction, then a little bit in another, then a little bit in another, and so on, it is possible to move from A to B. A car can only be driven forward and backward--it cannot be driven sideways. But it is still possible to parallel park. The following construction demonstrates a quantum analog of a familiar classical fact: By going forward and backing up a sufficiently small distance a large enough number of times, it is possible to parallel park in a space only $\\epsilon$ longer than the length of the care </blockquote>"
   ]
  },
  {
   "cell_type": "markdown",
   "id": "d36335f6",
   "metadata": {},
   "source": [
    "## The Quantum Ising Model <a id='ising-equation'></a>\n",
    "\n",
    "The Ising model with a transverse field has the form\n",
    "$$\n",
    "    H_{Ising} = J\\sum_i(Z_iZ_{i+1} + gX_i)\n",
    "$$\n",
    "where $J$ is a dimensionless coupling constant and $g$ is a similarly dimensionless constant corresponding to the strength of a transverse magnetic field.\n",
    "\n",
    "In this model, two of the observables that are interesting to consider are the energy $\\langle H \\rangle$ and magnetization $\\langle \\sigma_z \\rangle$.  For isolated systems, the energy should be constant in time (at least in the limit of the uncertainty principle) and so we'll be mostly focused on the magnetization which is a bit more interesting here.\n",
    "\n",
    "The time evolution operator $U(t)$ has the form\n",
    "\n",
    "$$\n",
    "    e^{-itH} = \\exp\\left(-it\\left(J\\sum_i(Z_iZ_{i+1} + gX_i)\\right)\\right)\n",
    "$$\n",
    "\n"
   ]
  },
  {
   "cell_type": "markdown",
   "id": "3b10807a",
   "metadata": {},
   "source": [
    "###  Exact Evolution for 3 Spins\n",
    "\n",
    "To get started with some data we can compare our circuit results to.  It turns out Qiskit has a nice set of tools we can use to produce this called `opflow` (there is also a [tutorial](https://qiskit.org/documentation/tutorials/operators/01_operator_flow.html) on this module if you are so inclined).  The cells below will build the Hamiltonian and corresponding (exact) time evolution operator, then apply it onto an initial state $|101\\rangle$ and measure its expectation value for several times."
   ]
  },
  {
   "cell_type": "code",
   "execution_count": 1,
   "id": "b6ff1acf",
   "metadata": {},
   "outputs": [],
   "source": [
    "import numpy as np\n",
    "import matplotlib.pyplot as plt\n",
    "plt.rcParams.update({'font.size': 16})\n",
    "\n",
    "# Import Qubit states Zero (|0>) and One (|1>), and Pauli operators (X, Y, Z)\n",
    "from qiskit.opflow import Zero, One, I, X, Y, Z\n"
   ]
  },
  {
   "cell_type": "code",
   "execution_count": 2,
   "id": "dda78080",
   "metadata": {},
   "outputs": [],
   "source": [
    "# Returns matrix representation of the non-periodic Ising model for 3 spin-1/2 particles in a line\n",
    "def H_ising(J: float, g: float):\n",
    "    #Interactions (I is the identity matrix; X and Z are Pauli matrices; ^ is a tensor product; * multiplies a scalar)\n",
    "    ZZs = (Z^Z^I) + (I^Z^Z)\n",
    "    Xs = (X^I^I) + (I^X^I) + (I^I^X)\n",
    "    \n",
    "    H = -J*(ZZs + (g*Xs))\n",
    "    return H\n",
    "\n",
    "# Returns matrix representation of U_ising(t) for a given time t and a set of system parameters\n",
    "def U_ising(t, J, g):\n",
    "    #Compute the Ising Hamiltonian as above\n",
    "    H = H_ising(J, g)\n",
    "    # Return the exponential of -i*t multiplied by the 3 spin Ising Hamiltonian\n",
    "    return (t * H).exp_i()\n"
   ]
  },
  {
   "cell_type": "code",
   "execution_count": 5,
   "id": "5c8902af",
   "metadata": {},
   "outputs": [
    {
     "name": "stdout",
     "output_type": "stream",
     "text": [
      "U =  e^(-i*-1.0 * ZZI\n",
      "- 1.0 * IZZ\n",
      "- 1.0 * XII\n",
      "- 1.0 * IXI\n",
      "- 1.0 * IIX)\n"
     ]
    },
    {
     "data": {
      "image/png": "[encoded data removed]",
      "text/plain": [
       "<Figure size 432x288 with 1 Axes>"
      ]
     },
     "metadata": {
      "needs_background": "light"
     },
     "output_type": "display_data"
    }
   ],
   "source": [
    "# Define array of time points\n",
    "ts = np.linspace(0, np.pi, 100)\n",
    "J = 1.0\n",
    "g = 1.\n",
    "\n",
    "# Define initial state |101>\n",
    "initial_state = One^Zero^One\n",
    "\n",
    "#Test out U operator for time t=1.0\n",
    "U = U_ising(1., J, g)\n",
    "print(\"U = \",U)\n",
    "\n",
    "# Compute probability of remaining in |101> state over the array of time points\n",
    " # The '~' gives the bra of the initial state (<101|)\n",
    " # @ is short hand for matrix multiplication\n",
    " # U_ising(t) is the unitary time evolution at time t\n",
    " # t needs to be wrapped with float(t) to avoid a bug\n",
    " # (...).eval() returns the inner product <101|U_ising(t)|101>\n",
    " #  np.abs(...)**2 is the modulus squared of the innner product which is the expectation value, or probability, of remaining in |110>\n",
    "probs_101 = [np.abs((~initial_state @ U_ising(float(t), J, g) @ initial_state).eval())**2 for t in ts]\n",
    "\n",
    "# Plot evolution of |101>\n",
    "plt.plot(ts, probs_101)\n",
    "plt.xlabel('time (t)')\n",
    "plt.ylabel(r'probability of state $|101\\rangle$')\n",
    "plt.title(r'Evolution of state $|101\\rangle$ under $H_{Ising}$')\n",
    "plt.grid()\n",
    "plt.show()\n",
    "\n"
   ]
  },
  {
   "cell_type": "markdown",
   "id": "2aee84c9",
   "metadata": {},
   "source": [
    "### Measuring the Magnetization\n",
    "\n",
    "Using opflow to measure the expectation of the total magnetization $\\langle\\sigma_z\\rangle$ can similarly be written by adding in a couple functions which will compute $\\langle\\sigma_z\\rangle$ in the computational basis.  In your last lab, you learned a bit about measuring expectation values and so here we will extend this by measuring over three qubits instead of just one.  Recall that the $Z$ operator has the form\n",
    "$$\n",
    "    Z = |0\\rangle\\langle0| - |1\\rangle\\langle1|\n",
    "$$\n",
    "and if we want to measure $Z$ for two qubits, we have a few choices: $IZ$, $ZI$, and $ZZ$\n",
    "$$\n",
    "    IZ = |00\\rangle\\langle00| - |01\\rangle\\langle01| + |10\\rangle\\langle10| - |11\\rangle\\langle11| \\\\\n",
    "    ZI = |00\\rangle\\langle00| + |01\\rangle\\langle01| - |10\\rangle\\langle10| - |11\\rangle\\langle11| \\\\\n",
    "    ZZ = |00\\rangle\\langle00| - |01\\rangle\\langle01| - |10\\rangle\\langle10| - |11\\rangle\\langle11|\n",
    "$$\n",
    "where you'll notice the first two operators are measuring $Z$ on *only* the first or second qubit while $ZZ$ measures on both.  To measure the magnetization we measure $Z$ on each of the qubits in our chain $\\langle\\sigma_z\\rangle=IZ + ZI$\n",
    "\n",
    "To extend this to a chain of *N* qubits, we can write the operator as:\n",
    "\n",
    "\n",
    "$$    \\langle\\sigma_z\\rangle = \\frac{1}{N}\\sum_i^{2^N}p_i\\langle c_i|\\sigma_z|c_i\\rangle = \\frac{1}{N}\\sum_i^{2^N}p_i\\left(n_i^0 - n_i^1\\right) = \\frac{1}{N}\\sum_i^{2^N}p_i\\left(N - 2n_i^1\\right)    \n",
    "$$\n",
    "\n",
    "where $|c_i\\rangle$ are each of the computational basis states, $p_i$ is the probability of measuring the *i*-th state and $n_i^0$, $n_i^1$ are the number of $0$'s and $1$'s in the bit string respectively.  \n"
   ]
  },
  {
   "cell_type": "markdown",
   "id": "9265a311",
   "metadata": {},
   "source": [
    "\n",
    "<h3 style=\"font-size: 20px\">&#128211; Verify that this sum is equivalent to measuring: $\\langle ZIII...I  + IZII...I + IIZ...I + ...  + III...IZ \\rangle$"
   ]
  },
  {
   "cell_type": "code",
   "execution_count": 5,
   "id": "a8c0a2bd",
   "metadata": {},
   "outputs": [
    {
     "data": {
      "image/png": "[encoded data removed]",
      "text/plain": [
       "<Figure size 432x288 with 1 Axes>"
      ]
     },
     "metadata": {
      "needs_background": "light"
     },
     "output_type": "display_data"
    }
   ],
   "source": [
    "#Computational basis states for 3 qubits\n",
    "states = [Zero^Zero^Zero, Zero^Zero^One, Zero^One^Zero, Zero^One^One, \n",
    "          One^Zero^Zero, One^Zero^One, One^One^Zero, One^One^One]\n",
    "\n",
    "#Return the number of '1's in a given bit string\n",
    "def bit_sum(n):\n",
    "    sum = 0\n",
    "    for bit in n:\n",
    "        sum += int(bit)\n",
    "    return sum\n",
    "\n",
    "#Function to compute the magnetization from a given opflow state\n",
    "def sigma_z(psi_t):\n",
    "    state_probs = []\n",
    "    for state in states:\n",
    "        bit_string = list(state.primitive.keys())[0]\n",
    "        bitsum = bit_sum(bit_string)\n",
    "        state_probs.append((3.-2.*bitsum) * np.abs((~state @ psi_t).eval())**2)\n",
    "    return sum(state_probs)/3\n",
    "        \n",
    "        \n",
    "ts = np.linspace(0, np.pi, 100)\n",
    "\n",
    "#Define your initial state\n",
    "init_state = One^Zero^One\n",
    "\n",
    "#Compute the magnetization at each time step\n",
    "mags = [sigma_z(U_ising(float(t), J, g) @ init_state) for t in ts]\n",
    "\n",
    "# Plot evolution of |110>\n",
    "plt.plot(ts, mags)\n",
    "plt.xlabel('time (t)')\n",
    "plt.ylabel(r'$\\langle\\sigma_z\\rangle$')\n",
    "plt.title(r'Magnetization of State $|${}$\\rangle$'.format(list(init_state.primitive.keys())[0]))\n",
    "plt.grid()\n",
    "plt.show()\n",
    "    \n",
    "\n",
    "\n"
   ]
  },
  {
   "cell_type": "markdown",
   "id": "a5d2cbdc",
   "metadata": {},
   "source": [
    "## Trotterization <a id='trotterization'></a>\n",
    "    \n",
    "Now that we understand what about the Ising model we are interested in, let's take a look at what the time evolution operator $U(t)$ looks like as we \"Trotterize\" it.  If we assume a system of three sites and open boundary conditions, the Hamiltonian can be written as\n",
    "$$\n",
    "        H_{Ising} = J\\sum_i(Z_iZ_{i+1} + gX_i) = JZ_0Z_1 + JZ_1Z_2 + JgX_0 + JgX_1 + JgX_2.\n",
    "$$\n",
    "\n",
    "We can then expand this out using the Trotter-Suzuki decomposition with $m$ slices\n",
    "$$\n",
    "       U(t) = \\exp\\left(-it\\left(J\\sum_i(Z_iZ_i{i+1} + gX_i)\\right)\\right) \\\\\n",
    "           \\approx \\left[\\prod_i \\exp\\left(-iH_i t/m\\right)\\right]^m \\\\\n",
    "           = \\left[e^{-it/mJ Z_0Z_1} e^{-it/mJ Z_1Z_2} e^{-it/mJgX_0} e^{-it/mJgX_1} e^{-it/mJgX_2}\\right]^m \\\\\n",
    "           = \\left[e^{-i\\theta_1 Z_0Z_1} e^{-i\\theta_1 Z_1Z_2} e^{-i\\theta_2X_0} e^{-i\\theta_2X_1} e^{-i\\theta_2X_2}\\right]^m\n",
    "$$\n",
    "\n",
    "and are left with 5 exponential operators of the form either $ZZ(\\theta)$ or $X(\\theta)$.  These operators have matrix representations of:\n",
    "\n",
    "$$\n",
    "    ZZ(\\theta) = \\begin{pmatrix} e^{-i\\frac{\\theta}{2}} & 0 & 0 & 0 \\\\\n",
    "                                0 & e^{i\\frac{\\theta}{2}} & 0 & 0 \\\\ \n",
    "                                0 & 0 & e^{i\\frac{\\theta}{2}} & 0 \\\\ \n",
    "                                0 & 0 & 0 & e^{-i\\frac{\\theta}{2}}  \\end{pmatrix} \\\\ \n",
    "                                \\\\ \n",
    "    X(\\theta) = \\begin{pmatrix} \\cos\\left(\\frac{\\theta}{2}\\right) & -i\\sin\\left(\\frac{\\theta}{2}\\right) \\\\\n",
    "                                i\\sin\\left(\\frac{\\theta}{2}\\right) & \\cos\\left(\\frac{\\theta}{2}\\right) \\end{pmatrix}\n",
    "$$\n"
   ]
  },
  {
   "cell_type": "markdown",
   "id": "694b7c54",
   "metadata": {},
   "source": [
    "\n",
    "<h3 style=\"font-size: 20px\">&#128211; Expand each of the operators of U(t) and show that they are equivalent to the rotation matrices above. </h3>\n",
    "    \n",
    "$$\n",
    "e^{-i\\theta_1 Z_0Z_1} = -i\\theta_1 Z_0Z_1 + 1/2 * (-i\\theta_1 Z_0Z_1)^2 + 1/3! * (-i\\theta_1 Z_0Z_1)^3 + ...\n",
    "$$"
   ]
  },
  {
   "cell_type": "markdown",
   "id": "cfd683a3",
   "metadata": {},
   "source": [
    "## Qiskit Implementation <a id='qiskit'></a>\n",
    "\n",
    "<h3 style=\"font-size: 20px\">&#128211; Step A.  Build a circuit that will implement the operator $U(t)$ for a given target time and number of Trotter steps."
   ]
  },
  {
   "cell_type": "code",
   "execution_count": null,
   "id": "922b5255",
   "metadata": {},
   "outputs": [],
   "source": [
    "#### Your code goes here\n",
    "\n",
    "#Conveniently enough, qiskit has both a ZZ(theta) and X(theta) gates by default. Check the docs on how to call them.\n",
    "#Start by calculating the angle theta for a given time and number of steps. Then create function(s) to add on \n",
    "\n",
    "\n",
    "\n",
    "\n",
    "\n",
    "\n",
    "\n",
    "\n"
   ]
  },
  {
   "cell_type": "markdown",
   "id": "50fd6e68",
   "metadata": {},
   "source": [
    "<h3 style=\"font-size: 20px\">&#128211; Step B. Measure and plot the expectation of the state $|101\\rangle$ as shown in section 3.1.  Plot this for several different numbers of Trotter steps to see how the trotterized $U(t)$ begins to converge to the true $U(t)$"
   ]
  },
  {
   "cell_type": "code",
   "execution_count": null,
   "id": "c43dcd1c",
   "metadata": {},
   "outputs": [],
   "source": [
    "#### Your code goes here\n",
    "\n",
    "#Note in the example plot, the parameters J = g = 1.0\n",
    "\n",
    "#Recall that the results are returned as a dict object with the bitstring as keys and the number of counts as values.\n",
    "# A suggestion to run this quickly is to use the Aer simulator backend.  For extra points, plot the time evolution\n",
    "#  using a real device\n",
    "\n",
    "\n",
    "\n",
    "\n"
   ]
  },
  {
   "cell_type": "markdown",
   "id": "85788677",
   "metadata": {},
   "source": [
    "<h3 style=\"font-size: 17px\">&#128211; Step C. Write a function to process the circuit results and calculate $\\langle\\sigma_z\\rangle$.  Plot this against time as shown further above"
   ]
  },
  {
   "cell_type": "code",
   "execution_count": null,
   "id": "31597ae4",
   "metadata": {},
   "outputs": [],
   "source": [
    "#### Your code goes here\n",
    "\n",
    "#A helpful starting point here is to remember that the magnetization can be measured by examining each bitstring \n",
    "# from the results.\n",
    "\n",
    "\n",
    "\n"
   ]
  },
  {
   "cell_type": "markdown",
   "id": "2a41435e",
   "metadata": {},
   "source": [
    "<h3 style=\"font-size: 17px\">&#128211; Step D. Run these circuits on your favorite backend and plot against the simulated data."
   ]
  },
  {
   "cell_type": "code",
   "execution_count": null,
   "id": "81c03cab",
   "metadata": {},
   "outputs": [],
   "source": [
    "#### Your code goes here\n",
    "\n",
    "\n"
   ]
  }
 ],
 "metadata": {
  "kernelspec": {
   "display_name": "Python 3 (ipykernel)",
   "language": "python",
   "name": "python3"
  },
  "language_info": {
   "codemirror_mode": {
    "name": "ipython",
    "version": 3
   },
   "file_extension": ".py",
   "mimetype": "text/x-python",
   "name": "python",
   "nbconvert_exporter": "python",
   "pygments_lexer": "ipython3",
   "version": "3.8.12"
  },
  "toc": {
   "base_numbering": 1,
   "nav_menu": {},
   "number_sections": true,
   "sideBar": true,
   "skip_h1_title": false,
   "title_cell": "Table of Contents",
   "title_sidebar": "Contents",
   "toc_cell": false,
   "toc_position": {},
   "toc_section_display": true,
   "toc_window_display": false
  }
 },
 "nbformat": 4,
 "nbformat_minor": 5
}
