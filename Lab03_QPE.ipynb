{
 "cells": [
  {
   "cell_type": "markdown",
   "metadata": {},
   "source": [
    "<h1 style=\"font-size:35px;\n",
    "        color:black;\n",
    "        \">Lab 3 Quantum Phase Estimation</h1>"
   ]
  },
  {
   "cell_type": "markdown",
   "metadata": {},
   "source": [
    "Prerequisite\n",
    "- [Ch.3.5 Quantum Fourier Transform](https://qiskit.org/textbook/ch-algorithms/quantum-fourier-transform.html)\n",
    "- [Ch.3.6 Quantum Phase Estimation](https://qiskit.org/textbook/ch-algorithms/quantum-phase-estimation.html)\n",
    "\n",
    "Other relevant materials\n",
    "- [QCQI] Michael A. Nielsen and Isaac L. Chuang. 2011. Quantum Computation and Quantum Information"
   ]
  },
  {
   "cell_type": "code",
   "execution_count": 16,
   "metadata": {},
   "outputs": [],
   "source": [
    "from qiskit import *\n",
    "import numpy as np\n",
    "from qiskit.visualization import plot_histogram\n",
    "import qiskit.tools.jupyter\n",
    "from qiskit.tools.monitor import job_monitor\n",
    "from qiskit.ignis.mitigation.measurement import *\n",
    "import matplotlib.pyplot as plt"
   ]
  },
  {
   "cell_type": "markdown",
   "metadata": {},
   "source": [
    "<h2 style=\"font-size:24px;\">Part 1: Performance of Quantum Phase Estimation</h2>\n",
    "\n",
    "<br>\n",
    "<div style=\"background: #E8E7EB; border-radius: 5px;\n",
    "-moz-border-radius: 5px;\">\n",
    "  <p style=\"background: #800080;\n",
    "            border-radius: 5px 5px 0px 0px;\n",
    "            padding: 10px 0px 10px 10px;\n",
    "            font-size:18px;\n",
    "            color:white;\n",
    "            \"><b>Goal</b></p>\n",
    "    <p style=\" padding: 0px 0px 10px 10px;\n",
    "              font-size:16px;\">Investigate the relationship between the number of qubits required for the desired accuracy of the phase estimation with high probability.</p>\n",
    "</div>\n",
    "\n",
    "\n",
    "The accuracy of the estimated value through Quantum Phase Estimation (QPE) and its probability of success depend on the number of qubits employed in QPE circuits. In this lab, we examine the number of qubits required to accomplish the desired accuracy and the probability of success in determining the phase through QPE."
   ]
  },
  {
   "cell_type": "markdown",
   "metadata": {},
   "source": [
    "<h3 style=\"font-size: 20px\">1. Find the probability of obtaining the estimation for a phase value accurate to $2^{-2}$ successfully with four counting qubits.</h3> "
   ]
  },
  {
   "cell_type": "markdown",
   "metadata": {},
   "source": [
    "<h4 style=\"font-size: 17px\">&#128211;Step A. Set up the QPE circuit with four counting qubits and save the circuit to the variable 'qc4'.  Execute 'qc4' on a Aer simulator.  Plot the histogram of the result.</h4>"
   ]
  },
  {
   "cell_type": "markdown",
   "metadata": {},
   "source": [
    "Check the QPE chapter in Qiskit textbook ( go to `3. Example: Getting More Precision` section [here](https://qiskit.org/textbook/ch-algorithms/quantum-phase-estimation.html#3.-Example:-Getting-More-Precision-) ) for the circuit."
   ]
  },
  {
   "cell_type": "code",
   "execution_count": 17,
   "metadata": {},
   "outputs": [],
   "source": [
    "#Quantum Fouriter transform\n",
    "def qft(n):\n",
    "    \"\"\"Creates an n-qubit QFT circuit\"\"\"\n",
    "    circuit = QuantumCircuit(n)\n",
    "    def swap_registers(circuit, n):\n",
    "        for qubit in range(n//2):\n",
    "            circuit.swap(qubit, n-qubit-1)\n",
    "        return circuit\n",
    "    def qft_rotations(circuit, n):\n",
    "        \"\"\"Performs qft on the first n qubits in circuit (without swaps)\"\"\"\n",
    "        if n == 0:\n",
    "            return circuit\n",
    "        n -= 1\n",
    "        circuit.h(n)\n",
    "        for qubit in range(n):\n",
    "            circuit.cp(np.pi/2**(n-qubit), qubit, n)\n",
    "        qft_rotations(circuit, n)\n",
    "    \n",
    "    qft_rotations(circuit, n)\n",
    "    swap_registers(circuit, n)\n",
    "    return circuit\n",
    "\n",
    "#Inverse Quantum Fourier Transform\n",
    "def qft_dagger(qc, n):\n",
    "    \"\"\"n-qubit QFTdagger the first n qubits in circ\"\"\"\n",
    "    # Don't forget the Swaps!\n",
    "    for qubit in range(n//2):\n",
    "        qc.swap(qubit, n-qubit-1)\n",
    "    for j in range(n):\n",
    "        for m in range(j):\n",
    "            qc.cp(-math.pi/float(2**(j-m)), m, j)\n",
    "        qc.h(j)"
   ]
  },
  {
   "cell_type": "code",
   "execution_count": 18,
   "metadata": {},
   "outputs": [
    {
     "data": {
      "text/html": [
       "<pre style=\"word-wrap: normal;white-space: pre;background: #fff0;line-height: 1.1;font-family: &quot;Courier New&quot;,Courier,monospace\">     ┌───┐                                                            »\n",
       "q_0: ┤ H ├─■──────────────────────────────────────────────────────────»\n",
       "     ├───┤ │                                                          »\n",
       "q_1: ┤ H ├─┼─────────■─────────■──────────────────────────────────────»\n",
       "     ├───┤ │         │         │                                      »\n",
       "q_2: ┤ H ├─┼─────────┼─────────┼─────────■─────────■─────────■────────»\n",
       "     ├───┤ │         │         │         │         │         │        »\n",
       "q_3: ┤ H ├─┼─────────┼─────────┼─────────┼─────────┼─────────┼────────»\n",
       "     ├───┤ │P(2π/3)  │P(2π/3)  │P(2π/3)  │P(2π/3)  │P(2π/3)  │P(2π/3) »\n",
       "q_4: ┤ X ├─■─────────■─────────■─────────■─────────■─────────■────────»\n",
       "     └───┘                                                            »\n",
       "c: 4/═════════════════════════════════════════════════════════════════»\n",
       "                                                                      »\n",
       "«                                                                           »\n",
       "«q_0: ──────────────────────────────────────────────────────────────────────»\n",
       "«                                                                           »\n",
       "«q_1: ──────────────X───────────────────────────────────────────────────────»\n",
       "«                   │                                                       »\n",
       "«q_2: ─■────────────X───────────────────────────────────────────────────────»\n",
       "«      │                                                                    »\n",
       "«q_3: ─┼─────────■─────────■─────────■─────────■─────────■─────────■────────»\n",
       "«      │P(2π/3)  │P(2π/3)  │P(2π/3)  │P(2π/3)  │P(2π/3)  │P(2π/3)  │P(2π/3) »\n",
       "«q_4: ─■─────────■─────────■─────────■─────────■─────────■─────────■────────»\n",
       "«                                                                           »\n",
       "«c: 4/══════════════════════════════════════════════════════════════════════»\n",
       "«                                                                           »\n",
       "«                            ┌───┐                                             »\n",
       "«q_0: ─────────────────────X─┤ H ├─■──────────────■───────────────────■────────»\n",
       "«                          │ └───┘ │P(-π/2) ┌───┐ │                   │        »\n",
       "«q_1: ─────────────────────┼───────■────────┤ H ├─┼─────────■─────────┼────────»\n",
       "«                          │                └───┘ │P(-π/4)  │P(-π/2)  │        »\n",
       "«q_2: ─────────────────────┼──────────────────────■─────────■─────────┼────────»\n",
       "«                          │                                          │P(-π/8) »\n",
       "«q_3: ─■─────────■─────────X──────────────────────────────────────────■────────»\n",
       "«      │P(2π/3)  │P(2π/3)                                                      »\n",
       "«q_4: ─■─────────■─────────────────────────────────────────────────────────────»\n",
       "«                                                                              »\n",
       "«c: 4/═════════════════════════════════════════════════════════════════════════»\n",
       "«                                                                              »\n",
       "«                    ┌─┐                        \n",
       "«q_0: ───────────────┤M├────────────────────────\n",
       "«                    └╥┘          ┌─┐           \n",
       "«q_1: ──────■─────────╫───────────┤M├───────────\n",
       "«     ┌───┐ │         ║           └╥┘     ┌─┐   \n",
       "«q_2: ┤ H ├─┼─────────╫──■─────────╫──────┤M├───\n",
       "«     └───┘ │P(-π/4)  ║  │P(-π/2)  ║ ┌───┐└╥┘┌─┐\n",
       "«q_3: ──────■─────────╫──■─────────╫─┤ H ├─╫─┤M├\n",
       "«                     ║            ║ └───┘ ║ └╥┘\n",
       "«q_4: ────────────────╫────────────╫───────╫──╫─\n",
       "«                     ║            ║       ║  ║ \n",
       "«c: 4/════════════════╩════════════╩═══════╩══╩═\n",
       "«                     0            1       2  3 </pre>"
      ],
      "text/plain": [
       "     ┌───┐                                                            »\n",
       "q_0: ┤ H ├─■──────────────────────────────────────────────────────────»\n",
       "     ├───┤ │                                                          »\n",
       "q_1: ┤ H ├─┼─────────■─────────■──────────────────────────────────────»\n",
       "     ├───┤ │         │         │                                      »\n",
       "q_2: ┤ H ├─┼─────────┼─────────┼─────────■─────────■─────────■────────»\n",
       "     ├───┤ │         │         │         │         │         │        »\n",
       "q_3: ┤ H ├─┼─────────┼─────────┼─────────┼─────────┼─────────┼────────»\n",
       "     ├───┤ │P(2π/3)  │P(2π/3)  │P(2π/3)  │P(2π/3)  │P(2π/3)  │P(2π/3) »\n",
       "q_4: ┤ X ├─■─────────■─────────■─────────■─────────■─────────■────────»\n",
       "     └───┘                                                            »\n",
       "c: 4/═════════════════════════════════════════════════════════════════»\n",
       "                                                                      »\n",
       "«                                                                           »\n",
       "«q_0: ──────────────────────────────────────────────────────────────────────»\n",
       "«                                                                           »\n",
       "«q_1: ──────────────X───────────────────────────────────────────────────────»\n",
       "«                   │                                                       »\n",
       "«q_2: ─■────────────X───────────────────────────────────────────────────────»\n",
       "«      │                                                                    »\n",
       "«q_3: ─┼─────────■─────────■─────────■─────────■─────────■─────────■────────»\n",
       "«      │P(2π/3)  │P(2π/3)  │P(2π/3)  │P(2π/3)  │P(2π/3)  │P(2π/3)  │P(2π/3) »\n",
       "«q_4: ─■─────────■─────────■─────────■─────────■─────────■─────────■────────»\n",
       "«                                                                           »\n",
       "«c: 4/══════════════════════════════════════════════════════════════════════»\n",
       "«                                                                           »\n",
       "«                            ┌───┐                                             »\n",
       "«q_0: ─────────────────────X─┤ H ├─■──────────────■───────────────────■────────»\n",
       "«                          │ └───┘ │P(-π/2) ┌───┐ │                   │        »\n",
       "«q_1: ─────────────────────┼───────■────────┤ H ├─┼─────────■─────────┼────────»\n",
       "«                          │                └───┘ │P(-π/4)  │P(-π/2)  │        »\n",
       "«q_2: ─────────────────────┼──────────────────────■─────────■─────────┼────────»\n",
       "«                          │                                          │P(-π/8) »\n",
       "«q_3: ─■─────────■─────────X──────────────────────────────────────────■────────»\n",
       "«      │P(2π/3)  │P(2π/3)                                                      »\n",
       "«q_4: ─■─────────■─────────────────────────────────────────────────────────────»\n",
       "«                                                                              »\n",
       "«c: 4/═════════════════════════════════════════════════════════════════════════»\n",
       "«                                                                              »\n",
       "«                    ┌─┐                        \n",
       "«q_0: ───────────────┤M├────────────────────────\n",
       "«                    └╥┘          ┌─┐           \n",
       "«q_1: ──────■─────────╫───────────┤M├───────────\n",
       "«     ┌───┐ │         ║           └╥┘     ┌─┐   \n",
       "«q_2: ┤ H ├─┼─────────╫──■─────────╫──────┤M├───\n",
       "«     └───┘ │P(-π/4)  ║  │P(-π/2)  ║ ┌───┐└╥┘┌─┐\n",
       "«q_3: ──────■─────────╫──■─────────╫─┤ H ├─╫─┤M├\n",
       "«                     ║            ║ └───┘ ║ └╥┘\n",
       "«q_4: ────────────────╫────────────╫───────╫──╫─\n",
       "«                     ║            ║       ║  ║ \n",
       "«c: 4/════════════════╩════════════╩═══════╩══╩═\n",
       "«                     0            1       2  3 "
      ]
     },
     "execution_count": 18,
     "metadata": {},
     "output_type": "execute_result"
    }
   ],
   "source": [
    "## Start your code to create the circuit, qc4\n",
    "\n",
    "import math\n",
    "\n",
    "qc4 = QuantumCircuit(5,4) #create a circuit with 1 target qubit and 4 counting qubits, and 4 classical qubits\n",
    "for qubit in range(4):\n",
    "    qc4.h(qubit)\n",
    "\n",
    "qc4.x(4)\n",
    "angle = 2*math.pi/3\n",
    "repetitions = 1\n",
    "for counting_qubit in range(4):\n",
    "    for i in range(repetitions):\n",
    "        qc4.cp(angle, counting_qubit, 4);\n",
    "    repetitions *= 2\n",
    "qft_dagger(qc4, 4)\n",
    "for n in range(4):\n",
    "    qc4.measure(n,n)\n",
    "\n",
    "\n",
    "qc4.draw()"
   ]
  },
  {
   "cell_type": "code",
   "execution_count": 19,
   "metadata": {},
   "outputs": [
    {
     "data": {
      "image/png": "[encoded data removed]",
      "text/plain": [
       "<Figure size 648x360 with 1 Axes>"
      ]
     },
     "execution_count": 19,
     "metadata": {},
     "output_type": "execute_result"
    }
   ],
   "source": [
    "## Run this cell to simulate 'qc4' and to plot the histogram of the result\n",
    "sim = Aer.get_backend('aer_simulator')\n",
    "shots = 20000\n",
    "count_qc4 = execute(qc4, sim, shots=shots).result().get_counts()\n",
    "plot_histogram(count_qc4, figsize=(9,5))"
   ]
  },
  {
   "cell_type": "markdown",
   "metadata": {},
   "source": [
    "Having performed `Step A` successfully, you will have obtained a distribution similar to the one shown below with the highest probability at `0101` which corresponds to the estimated $\\phi$ value, `0.3125`."
   ]
  },
  {
   "cell_type": "markdown",
   "metadata": {},
   "source": [
    "![](L3_qc4_hist.png)"
   ]
  },
  {
   "cell_type": "markdown",
   "metadata": {},
   "source": [
    "Since the number of counting qubits used for the circuit is four, the best estimated value should be accurate to $\\delta = 2^{-4} = 0.0625$.  However, there are multiple possible outcomes as $\\theta = 1/3$ cannot be expressed in a finite number of bits, the estimation by QPE here is not always bounded by this accuracy. "
   ]
  },
  {
   "cell_type": "markdown",
   "metadata": {},
   "source": [
    "Running the following cell shows the same histogram but with all possible estimated $\\phi$ values on the x-axis."
   ]
  },
  {
   "cell_type": "code",
   "execution_count": 20,
   "metadata": {
    "scrolled": true
   },
   "outputs": [
    {
     "data": {
      "image/png": "[encoded data removed]",
      "text/plain": [
       "<Figure size 648x360 with 1 Axes>"
      ]
     },
     "execution_count": 20,
     "metadata": {},
     "output_type": "execute_result"
    }
   ],
   "source": [
    "phi_est = np.array([round(int(key, 2)/2**4,3) for key in list(count_qc4.keys())])\n",
    "key_new = list(map(str, phi_est))\n",
    "count_new = dict(zip(key_new, count_qc4.values()))\n",
    "plot_histogram(count_new, figsize=(9,5))"
   ]
  },
  {
   "cell_type": "markdown",
   "metadata": {},
   "source": [
    "**Suppose the outcome of the final measurement is $m$, and let $b$ the best estimation which is `0.3125` for this case.**\n",
    "<h4 style=\"font-size: 17px\">&#128211;Step B. Find $e$, the maximum difference in integer from the best estimation <code>0101</code> so that all the outcomes, 'm's, would approximate $\\phi$ to an accuracy $2^{-2}$ when $|m - b| \\leq \\frac{e}{2^{t}}$. </h4>"
   ]
  },
  {
   "cell_type": "markdown",
   "metadata": {},
   "source": [
    "In this case, the values of $t$ and $b$ are $4$ and $0.3125$, respectively."
   ]
  },
  {
   "cell_type": "markdown",
   "metadata": {},
   "source": [
    "For example, under $e = 1$, the considered outcomes are `0100`, `0101`, `0110` which correspond to the values of $m$: $0.25,~0.312,~0.375$, respectively, and all of them approximate the value $\\frac{1}{3}$ to an accuracy $2^{-2}$."
   ]
  },
  {
   "cell_type": "code",
   "execution_count": 53,
   "metadata": {},
   "outputs": [
    {
     "name": "stdout",
     "output_type": "stream",
     "text": [
      "0\n",
      "0.021333333333333315\n",
      "0101\n",
      "5\n",
      "0101\n"
     ]
    }
   ],
   "source": [
    "## Your code goes here\n",
    "\n",
    "theta = 1./3.\n",
    "tol = 0.25\n",
    "\n",
    "err = abs(phi_est - theta)\n",
    "min_el = np.argmin(err)\n",
    "print(min_el)\n",
    "print(err[min_el])\n",
    "print(list(count_qc4.keys())[min_el])\n",
    "\n",
    "bit = int(list(count_qc4.keys())[min_el],2)\n",
    "print(bit)\n",
    "print(\"{0:04b}\".format(bit))"
   ]
  },
  {
   "cell_type": "markdown",
   "metadata": {},
   "source": [
    "<h4 style=\"font-size: 17px\">&#128211;Step C. Compute the probability of obtaining an approximation correct to an accuracy $2^{-2}$.  Verify that the computed probability value is larger or equal to $1- \\frac{1}{2(2^{(t-n)}-2)}$ where $t$ is the number of counting bits and the $2^{-n}$ is the desired accuracy. </h4>"
   ]
  },
  {
   "cell_type": "markdown",
   "metadata": {},
   "source": [
    "Now it is easy to evaluate the probability of the success from the histogram since all the outcomes that approximate $\\phi$ to the accuracy $2^{-2}$ can be found based on the maximum difference $e$ from the best estimate. "
   ]
  },
  {
   "cell_type": "code",
   "execution_count": null,
   "metadata": {},
   "outputs": [],
   "source": [
    "## Your code goes here\n",
    "\n",
    "\n",
    "\n",
    "\n",
    "\n",
    "\n",
    "\n",
    "\n",
    "\n",
    "\n",
    "\n",
    "\n"
   ]
  },
  {
   "cell_type": "markdown",
   "metadata": {},
   "source": [
    "![](image/L3_e_max.png)"
   ]
  },
  {
   "cell_type": "markdown",
   "metadata": {},
   "source": [
    "![](image/L3_prob_t.png)"
   ]
  },
  {
   "cell_type": "markdown",
   "metadata": {},
   "source": [
    "The following graph exhibits the relationships with different accuracy levels.  The relationship, $t=n+log(2+\\frac{1}{2\\epsilon})$, indicates the number of counting qubits $t$ to estimate $\\phi$ to an accuracy $2^{-2}$ with probability of success at least $1-\\epsilon$, as we validated above. "
   ]
  },
  {
   "cell_type": "code",
   "execution_count": null,
   "metadata": {},
   "outputs": [],
   "source": [
    "t = np.linspace(5.1, 10, 100)\n",
    "prob_success_n = [y(t, n) for n in [2, 3, 4]]\n",
    "prob_n2, prob_n3, prob_n4  = prob_success_n[0], prob_success_n[1], prob_success_n[2]\n",
    "\n",
    "plt.figure(figsize=(7, 5))\n",
    "plt.plot(t, prob_n2, t, prob_n3, t, prob_n4, t, [1]*len(t),'--' )\n",
    "plt.axis([5, 10, 0.7, 1.05])\n",
    "plt.xlabel('t: number of counting qubits')\n",
    "plt.ylabel('probability of success for the accuracy $2^{-n}$')\n",
    "plt.legend(['n = 2', 'n = 3', 'n = 4'], loc='lower right')\n",
    "plt.grid(True)"
   ]
  },
  {
   "cell_type": "markdown",
   "metadata": {},
   "source": [
    "![](image/L3_QPEresults.png)"
   ]
  },
  {
   "cell_type": "markdown",
   "metadata": {},
   "source": [
    "![](image/L3_QPEresults_final.png)"
   ]
  },
  {
   "cell_type": "markdown",
   "metadata": {},
   "source": [
    "![](image/L3_QPE_final.png)"
   ]
  }
 ],
 "metadata": {
  "kernelspec": {
   "display_name": "Python 3 (ipykernel)",
   "language": "python",
   "name": "python3"
  },
  "language_info": {
   "codemirror_mode": {
    "name": "ipython",
    "version": 3
   },
   "file_extension": ".py",
   "mimetype": "text/x-python",
   "name": "python",
   "nbconvert_exporter": "python",
   "pygments_lexer": "ipython3",
   "version": "3.8.12"
  }
 },
 "nbformat": 4,
 "nbformat_minor": 4
}
