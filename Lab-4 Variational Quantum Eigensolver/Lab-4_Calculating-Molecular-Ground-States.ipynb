{
 "cells": [
  {
   "cell_type": "markdown",
   "id": "ef864db0",
   "metadata": {},
   "source": [
    "# Ground State of a Molecule\n",
    "In this lab, we will calculate the ground state of a simple molecule and find the optimized interatomic distance between atoms.  We will also examine the performance of several different variational optimizers and find the ground state of a given, non-chemical Hamiltonian."
   ]
  },
  {
   "cell_type": "markdown",
   "id": "f4474043",
   "metadata": {},
   "source": [
    "# Preparing  and Transforming the Molecular Hamiltonian Operator\n",
    "\n",
    "To get us started with finding the ground state of a molecule, we should *first* examine how we wish to characterize the Hamiltonian of our molecule.  The main problem with accurately simulating molecules is that the true Hamiltonian is an $N$-body problem which is quite difficult to deal with.  Instead, the common canonical approach is simplify the system into $N$ one-body problems where each electron responds to the mean-field of all the others.  This approach is known as the Hartree-Fock method and has a Hamiltonian written in the form:\n",
    "\n",
    "$$\n",
    "    H = \\sum_{ij} h_{ij}\\hat{c}_i^\\dagger\\hat{c}_j + \\frac{1}{2}\\sum_{ijkl} h_{ijkl} \\hat{c}_i^\\dagger\\hat{c}_j^\\dagger\\hat{c}_k\\hat{c}_l \n",
    "$$\n",
    "\n",
    "where the creation ($\\hat{c}_i^\\dagger$) and annihilation ($\\hat{c}_i$) operators act on a basis of molecular orbitals electrons are able to occupy ($\\phi_i$).  Each of these orbitals can be occupied or unoccupied with a single electron of a given spin.  The parameters $h_{ij}$ and $h_{ijkl}$ store the one-body and two body integrals of the molecular orbital basis functions\n",
    "\n",
    "$$\n",
    "    h_{ij} = \\int \\phi_i^*(r)\\left(-\\frac{1}{2}\\nabla^2 - \\sum_I \\frac{Z_I}{R_I-r} \\right)\\phi_i(r) dr \\\\ \\\\\n",
    "    h_{ijkl} = \\int \\frac{\\phi_i^*(r_1)\\phi_j^*(r_2)\\phi_k(r_1)\\phi_l(r_2)}{|r_1-r_2|}dr_1dr_2\n",
    "$$\n",
    "where the values $Z_I$ and $R_I$ are the charge and position of each of the atomic nuclei in the molecule.\n",
    "\n",
    "Luckily, computational chemists have developed libraries which can calculate these integrals for us so we don't have to!  Qiskit accesses these libraries through what are called *drivers*.  In the code below we will initialize an $H_2$ molecule at the ideal interatomic distance."
   ]
  },
  {
   "cell_type": "code",
   "execution_count": 1,
   "id": "9ffdfafe",
   "metadata": {
    "scrolled": true
   },
   "outputs": [
    {
     "name": "stdout",
     "output_type": "stream",
     "text": [
      "Items of the second_q_op dict: \n",
      "\n",
      "ElectronicEnergy : Fermionic Operator\n",
      "register length=4, number terms=14\n",
      "  (0.18093120148374142+0j) * ( +_0 -_1 +_2 -_3 )\n",
      "+ (-0.18093120148374134+0j) * ( +_0 -_1 -_2 +_3 )\n",
      "+ (-0.18093120148374134+0j) * ( -_0 +_1 +_2 -_3 )\n",
      "+ (0.18093120148374128+0j) * ( -_0 +_1 -_2 +_3  ... \n",
      "\n",
      "ParticleNumber : Fermionic Operator\n",
      "register length=4, number terms=4\n",
      "  (1+0j) * ( +_0 -_0 )\n",
      "+ (1+0j) * ( +_1 -_1 )\n",
      "+ (1+0j) * ( +_2 -_2 )\n",
      "+ (1+0j) * ( +_3 -_3 ) \n",
      "\n",
      "AngularMomentum : Fermionic Operator\n",
      "register length=4, number terms=12\n",
      "  (1+0j) * ( +_0 -_1 -_2 +_3 )\n",
      "+ (1+0j) * ( -_0 +_1 +_2 -_3 )\n",
      "+ (0.75+0j) * ( +_3 -_3 )\n",
      "+ (0.75+0j) * ( +_2 -_2 )\n",
      "+ (0.5+0j) * ( +_2 -_2 +_3 -_3 )\n",
      "+ (0.75+0j) * ( +_1 -_1 )\n",
      "+ (-1.5+0j) * ( +_1 -_1 ... \n",
      "\n",
      "Magnetization : Fermionic Operator\n",
      "register length=4, number terms=4\n",
      "  (0.5+0j) * ( +_0 -_0 )\n",
      "+ (0.5+0j) * ( +_1 -_1 )\n",
      "+ (-0.5+0j) * ( +_2 -_2 )\n",
      "+ (-0.5+0j) * ( +_3 -_3 ) \n",
      "\n"
     ]
    }
   ],
   "source": [
    "from qiskit_nature.drivers import UnitsType, Molecule\n",
    "from qiskit_nature.drivers.second_quantization import (\n",
    "    ElectronicStructureDriverType,\n",
    "    ElectronicStructureMoleculeDriver,\n",
    ")\n",
    "from qiskit_nature.problems.second_quantization import ElectronicStructureProblem\n",
    "import qiskit_nature as qk_nature\n",
    "qk_nature.settings.dict_aux_operators = True\n",
    "\n",
    "\n",
    "#Initalize the driver for the H2 molecule.  The input for this are the element symbol as string followed by\n",
    "# an array of x, y, z positions in units of angstroms.\n",
    "molecule = Molecule(\n",
    "    geometry=[[\"H\", [0.0, 0.0, 0.0]], [\"H\", [0.0, 0.0, 0.735]]])\n",
    "\n",
    "\n",
    "driver = ElectronicStructureMoleculeDriver(\n",
    "    molecule, basis=\"sto3g\", driver_type=ElectronicStructureDriverType.PYQUANTE)\n",
    "\n",
    "\n",
    "#This prepares the second quantized fermionic operator after computing the one and two body orbitals\n",
    "es_problem = ElectronicStructureProblem(driver)\n",
    "second_q_op = es_problem.second_q_ops()\n",
    "\n",
    "print(\"Items of the second_q_op dict: \\n\")\n",
    "for key, val in second_q_op.items():\n",
    "    print(key,':', val, '\\n')"
   ]
  },
  {
   "cell_type": "markdown",
   "id": "a94691ec",
   "metadata": {},
   "source": [
    "## Transform Fermionic Operators to Pauli Operators\n",
    "\n",
    "Great!  Now we have computed the second quantized hamiltonian of $H_2$ written in the molecular orbital basis (the `ElectronicEnergy` operator is what we're after).  However, this is written in terms of fermionic operators which cannot be encoded onto the operators of a quantum computer.  In order to encode this Hamiltonian to a quantum computing environment, the operators need to be mapped to spin (Pauli) operators.\n",
    "![image1](./images/jw_mapping.png)\n",
    "There exist many different mappings between fermionic and spin operators, each with their own properties, but the canonical (read: most popular as far as I know) transformation (and one that Qiskit already has support for) is the Jordan-Wigner transformation.  This transformation will map each molecular orbital to an individual qubit, thereby mapping the occupied and unnoccupied orbital state to the $|0\\rangle$ and $|1\\rangle$ state respectively.  The code below will take our second quantized Hamiltonian and write it in terms of Pauli operators."
   ]
  },
  {
   "cell_type": "code",
   "execution_count": 4,
   "id": "b1bdd324",
   "metadata": {},
   "outputs": [
    {
     "name": "stdout",
     "output_type": "stream",
     "text": [
      "-0.8105479965981814 * IIII\n",
      "- 0.22575350027942775 * ZIII\n",
      "+ 0.17218394351950977 * IZII\n",
      "+ 0.12091263344524698 * ZZII\n",
      "- 0.22575350027942775 * IIZI\n",
      "+ 0.17464343496146983 * ZIZI\n",
      "+ 0.16614543381618233 * IZZI\n",
      "+ 0.1721839435195099 * IIIZ\n",
      "+ 0.16614543381618233 * ZIIZ\n",
      "+ 0.1689275406336891 * IZIZ\n",
      "+ 0.12091263344524698 * IIZZ\n",
      "+ 0.045232800370935335 * XXXX\n",
      "+ 0.045232800370935335 * YYXX\n",
      "+ 0.045232800370935335 * XXYY\n",
      "+ 0.045232800370935335 * YYYY\n"
     ]
    }
   ],
   "source": [
    "from qiskit_nature.converters.second_quantization import QubitConverter\n",
    "from qiskit_nature.mappers.second_quantization import JordanWignerMapper\n",
    "\n",
    "\n",
    "qubit_converter = QubitConverter(mapper=JordanWignerMapper(), two_qubit_reduction=True)\n",
    "H2_op = qubit_converter.convert(second_q_op['ElectronicEnergy'])\n",
    "print(H2_op)"
   ]
  },
  {
   "cell_type": "markdown",
   "id": "69dec7aa",
   "metadata": {},
   "source": [
    "In this particular basis (STO-3G), 4 qubits are required to capture all the orbitals.  However, this can be reduced by taking advantage of parity operations using the `ParityMapper()` instead of the `JordanWignerMapper()` which reduces the number of qubits required to two."
   ]
  },
  {
   "cell_type": "code",
   "execution_count": 5,
   "id": "cb446832",
   "metadata": {},
   "outputs": [
    {
     "name": "stdout",
     "output_type": "stream",
     "text": [
      "(-1.052373263488675-2.7755575615628914e-17j) * II\n",
      "- 0.39793744379893736 * ZI\n",
      "+ (0.3979374437989376-2.7755575615628914e-17j) * IZ\n",
      "+ (-0.011280107962794272+2.7755575615628914e-17j) * ZZ\n",
      "+ (0.18093120148374128-3.469446951953614e-18j) * XX\n"
     ]
    }
   ],
   "source": [
    "from qiskit_nature.mappers.second_quantization import ParityMapper\n",
    "\n",
    "\n",
    "qubit_converter = QubitConverter(mapper=ParityMapper(), two_qubit_reduction=True)\n",
    "H2_op = qubit_converter.convert(second_q_op['ElectronicEnergy'], num_particles=es_problem.num_particles)\n",
    "print(H2_op)"
   ]
  },
  {
   "cell_type": "markdown",
   "id": "e14afcd2",
   "metadata": {},
   "source": [
    "Now the Hamiltonian for the $H_2$ molecule is ready!  The next step is to send this operator to the VQE"
   ]
  },
  {
   "cell_type": "markdown",
   "id": "d62f895e",
   "metadata": {},
   "source": [
    "## Running VQE"
   ]
  },
  {
   "cell_type": "markdown",
   "id": "4de9d479",
   "metadata": {},
   "source": [
    "Recall in the previous notebook that the VQE algorithm consists of two pieces, the **variational form** (the structure of the variational circuit) and the **optimization algorithm** (which control how the parameters evolve).  Now that we have the operator we want to run, we are going to specify both of these and run them using the Aer simulator.  For this case we'll use the `SPSA` optimizer and the `EfficientSU2` ansatz with linear entanglement."
   ]
  },
  {
   "cell_type": "code",
   "execution_count": 16,
   "id": "8abb9437",
   "metadata": {},
   "outputs": [],
   "source": [
    "\n",
    "from qiskit.utils import QuantumInstance, algorithm_globals\n",
    "from qiskit import Aer\n",
    "from qiskit.algorithms.optimizers import SPSA\n",
    "from qiskit.algorithms import VQE, NumPyMinimumEigensolver\n",
    "from qiskit.circuit.library import EfficientSU2\n",
    "\n",
    "\n",
    "#Creating a QuantumInstance object will create an environment with the same starting seeds,\n",
    "# ensuring that the resulting measurement data from the Aer simulator is the same everytime.  You do\n",
    "# not have to do this for the lab, you can just set quantum_instance=backend.\n",
    "\n",
    "seed = 170\n",
    "iterations = 125\n",
    "algorithm_globals.random_seed = seed\n",
    "backend = Aer.get_backend('aer_simulator')\n",
    "qi = QuantumInstance(backend=backend, seed_simulator=seed, seed_transpiler=seed)\n",
    "\n",
    "\n",
    "\n",
    "counts = []\n",
    "values = []\n",
    "\n",
    "def store_intermediate_result(eval_count, parameters, mean, std):\n",
    "    counts.append(eval_count)\n",
    "    values.append(mean)\n",
    "\n",
    "    \n",
    "ansatz = EfficientSU2(num_qubits=4, entanglement='linear')\n",
    "spsa = SPSA(maxiter=iterations)\n",
    "vqe = VQE(ansatz, optimizer=spsa, callback=store_intermediate_result, quantum_instance=qi)\n",
    "\n",
    "result = vqe.compute_minimum_eigenvalue(operator=H2_op)"
   ]
  },
  {
   "cell_type": "code",
   "execution_count": 9,
   "id": "13e09aea",
   "metadata": {},
   "outputs": [
    {
     "data": {
      "text/plain": [
       "Text(0.5, 1.0, 'Convergence with no noise')"
      ]
     },
     "execution_count": 9,
     "metadata": {},
     "output_type": "execute_result"
    },
    {
     "data": {
      "image/png": "[encoded data removed]",
      "text/plain": [
       "<Figure size 864x288 with 1 Axes>"
      ]
     },
     "metadata": {
      "needs_background": "light"
     },
     "output_type": "display_data"
    }
   ],
   "source": [
    "import matplotlib.pyplot as plt\n",
    "fig = plt.figure(figsize=(12, 4))\n",
    "ax = fig.add_axes([1,1,1,1])\n",
    "ax.plot(counts, values)\n",
    "ax.set_xlabel('Eval count', size=18)\n",
    "ax.set_ylabel('Energy', size=18)\n",
    "ax.set_title('Convergence with no noise', size=20)"
   ]
  },
  {
   "cell_type": "markdown",
   "id": "6d2dfdf6",
   "metadata": {},
   "source": [
    "We'll also calculate the exact ground state energy for our `H2_op` variable and compare to what the VQE algorithm returned"
   ]
  },
  {
   "cell_type": "code",
   "execution_count": 7,
   "id": "b05105ad",
   "metadata": {},
   "outputs": [
    {
     "name": "stdout",
     "output_type": "stream",
     "text": [
      "VQE on Aer qasm simulator (no noise): -1.85379\n",
      "Delta from reference energy value is 0.00348\n"
     ]
    }
   ],
   "source": [
    "npme = NumPyMinimumEigensolver()\n",
    "result_npme = npme.compute_minimum_eigenvalue(operator=H2_op)\n",
    "ref_value = result_npme.eigenvalue.real\n",
    "print(f'VQE on Aer qasm simulator (no noise): {result.eigenvalue.real:.5f}')\n",
    "print(f'Delta from reference energy value is {(result.eigenvalue.real - ref_value):.5f}')\n"
   ]
  },
  {
   "cell_type": "markdown",
   "id": "863160c2",
   "metadata": {},
   "source": [
    "# &#128211; Compare the Performance of Variational Forms and Optimization Algorithms\n",
    "\n",
    "## &#128211; Run the COBYLA, SLSQP, L_BFGS_B for the Linear and Fully entangled ansatz circuit to find the ground state of H2\n",
    "\n",
    "### &#128211; Plot the energy against each step of the optimization.  Put all of this data in one or two plots to make the comparison easier to see.  \n",
    "\n",
    "Feel free to read more about these optimizers [L_BFGS_B](https://qiskit.org/documentation/stubs/qiskit.algorithms.optimizers.L_BFGS_B.html?highlight=bfgs#qiskit.algorithms.optimizers.L_BFGS_B), [SLSQP](https://qiskit.org/documentation/stubs/qiskit.algorithms.optimizers.SLSQP.html?highlight=slsqp#qiskit.algorithms.optimizers.SLSQP), [COBYLA](https://qiskit.org/documentation/stubs/qiskit.algorithms.optimizers.COBYLA.html?highlight=cobyla#qiskit.algorithms.optimizers.COBYLA)"
   ]
  },
  {
   "cell_type": "code",
   "execution_count": 17,
   "id": "745cf220",
   "metadata": {},
   "outputs": [
    {
     "data": {
      "image/png": "[encoded data removed]",
      "text/plain": [
       "<Figure size 432x288 with 1 Axes>"
      ]
     },
     "metadata": {
      "needs_background": "light"
     },
     "output_type": "display_data"
    }
   ],
   "source": [
    "#You'll need to import the COBYLA, SLSQP, and L_BFGS_B optimizers the same way for SPSA above.  When \n",
    "#  initialized as a variable, you can set (among other things) the max number of iterations.  The default is 1000\n",
    "#  and you may want to use a smaller amount when testing out your code.\n",
    "#\n",
    "#\n",
    "# Your code goes here\n",
    "from qiskit.algorithms.optimizers import COBYLA, SLSQP, L_BFGS_B\n",
    "\n",
    "seed = 170\n",
    "iterations = 125\n",
    "algorithm_globals.random_seed = seed\n",
    "backend = Aer.get_backend('aer_simulator')\n",
    "qi = QuantumInstance(backend=backend, seed_simulator=seed, seed_transpiler=seed)\n",
    "\n",
    "\n",
    "def store_intermediate_result(eval_count, parameters, mean, std):\n",
    "    counts.append(eval_count)\n",
    "    values.append(mean)\n",
    "\n",
    "cobyla = COBYLA(maxiter=iterations)\n",
    "slsqp = SLSQP(maxiter=iterations)\n",
    "lbfgsb = L_BFGS_B(maxiter=iterations)\n",
    "\n",
    "optimizers = [cobyla, slsqp, lbfgsb]\n",
    "opt_strings = ['COBYLA', 'SLSQP', 'L_BFGS_B']\n",
    "marker = 0\n",
    "plt.figure()\n",
    "for opt in optimizers:\n",
    "    counts = []\n",
    "    values = []\n",
    "    ansatz = EfficientSU2(num_qubits=4, entanglement='linear')\n",
    "    vqe = VQE(ansatz, optimizer=opt, callback=store_intermediate_result, quantum_instance=qi)\n",
    "    result = vqe.compute_minimum_eigenvalue(operator=H2_op)\n",
    "    plt.plot(counts, values, label = opt_strings[marker])\n",
    "    marker += 1\n",
    "\n",
    "plt.legend()\n",
    "plt.show()\n"
   ]
  },
  {
   "cell_type": "markdown",
   "id": "1cbf37c2",
   "metadata": {},
   "source": [
    "### &#128211; Plot the difference in energy from the reference value against each step of the optimization.  Put all this data into one or two plots"
   ]
  },
  {
   "cell_type": "code",
   "execution_count": 14,
   "id": "2e01cb12",
   "metadata": {},
   "outputs": [],
   "source": [
    "#Modify the data you've gathered above using the reference value calculated with the NumpyMinimumEigenSolver()\n",
    "#\n",
    "#\n",
    "# Your code goes here\n",
    "#\n",
    "#"
   ]
  },
  {
   "cell_type": "markdown",
   "id": "22b9646e",
   "metadata": {},
   "source": [
    "# &#128211; Plot the ground state energy of H2 as a function of interatomic distance"
   ]
  },
  {
   "cell_type": "code",
   "execution_count": null,
   "id": "e2752c48",
   "metadata": {},
   "outputs": [],
   "source": [
    "#Use functions!  You'll have to create a new H2 operator for each distance and send it through the VQE to \n",
    "# get the ground state energy.\n",
    "#\n",
    "#\n",
    "# Your code goes here\n",
    "#\n",
    "#"
   ]
  },
  {
   "cell_type": "markdown",
   "id": "61af6c68",
   "metadata": {},
   "source": [
    "# &#128211; Pick your favorite simple Hamiltonian of Pauli Operators (Heisenberg, Ising, Tight Binding, etc.).  Use VQE to find the ground state energy\n",
    "\n",
    "### Use the opflow module of qiskit to create the operator.  You can find the tutorial [here](https://qiskit.org/documentation/tutorials/operators/01_operator_flow.html)."
   ]
  },
  {
   "cell_type": "code",
   "execution_count": null,
   "id": "83c75b76",
   "metadata": {},
   "outputs": [],
   "source": [
    "#Compare the VQE result with the exact eigenvalue using the NumpyMinimumEigenSolver().  I'd recommend keeping\n",
    "#  the total size of the operators to be < 5 qubits.  You should just need the Pauli ops imported below.\n",
    "#\n",
    "from qiskit.opflow import I, X, Y, Z\n",
    "#\n",
    "# Your code goes here\n",
    "#\n",
    "#"
   ]
  }
 ],
 "metadata": {
  "kernelspec": {
   "display_name": "Python 3 (ipykernel)",
   "language": "python",
   "name": "python3"
  },
  "language_info": {
   "codemirror_mode": {
    "name": "ipython",
    "version": 3
   },
   "file_extension": ".py",
   "mimetype": "text/x-python",
   "name": "python",
   "nbconvert_exporter": "python",
   "pygments_lexer": "ipython3",
   "version": "3.8.12"
  },
  "toc": {
   "base_numbering": 1,
   "nav_menu": {},
   "number_sections": true,
   "sideBar": true,
   "skip_h1_title": false,
   "title_cell": "Table of Contents",
   "title_sidebar": "Contents",
   "toc_cell": false,
   "toc_position": {},
   "toc_section_display": true,
   "toc_window_display": false
  }
 },
 "nbformat": 4,
 "nbformat_minor": 5
}
